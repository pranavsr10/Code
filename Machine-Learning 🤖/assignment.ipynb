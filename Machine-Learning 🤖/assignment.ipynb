{
 "cells": [
  {
   "cell_type": "code",
   "execution_count": 19,
   "metadata": {},
   "outputs": [],
   "source": [
    "import numpy as np\n",
    "import sklearn\n"
   ]
  },
  {
   "cell_type": "code",
   "execution_count": 13,
   "metadata": {},
   "outputs": [
    {
     "name": "stdout",
     "output_type": "stream",
     "text": [
      "[[ 1  4  5  6]\n",
      " [ 7  8  9 10]\n",
      " [11 12 14 16]]\n",
      "2\n",
      "<class 'numpy.ndarray'>\n",
      "(3, 4)\n",
      "12\n"
     ]
    }
   ],
   "source": [
    "my_array = np.array([[1, 4, 5, 6], [7, 8, 9, 10], [11, 12, 14, 16]])\n",
    "\n",
    "print(my_array)\n",
    "print(my_array.ndim)\n",
    "print(type(my_array))\n",
    "print(my_array.shape)\n",
    "print(my_array.size)"
   ]
  },
  {
   "cell_type": "code",
   "execution_count": 14,
   "metadata": {},
   "outputs": [
    {
     "name": "stdout",
     "output_type": "stream",
     "text": [
      "[[1 2 3 4]\n",
      " [5 6 7 8]\n",
      " [1 2 3 4]]\n"
     ]
    }
   ],
   "source": [
    "my_arr = np.array([[1, 2 , 3 , 4], [5, 6, 7, 8]])\n",
    "print(np.resize(my_arr, (3,4 )))"
   ]
  },
  {
   "cell_type": "code",
   "execution_count": 15,
   "metadata": {},
   "outputs": [
    {
     "name": "stdout",
     "output_type": "stream",
     "text": [
      "[[1 2 3 4]\n",
      " [5 6 7 8]]\n",
      "[1 2 3 4 5 6 7 8]\n"
     ]
    }
   ],
   "source": [
    "my_first_arr = np.array([1,2,3,4,5,6,7,8])\n",
    "my_new_arr = np.reshape(my_first_arr, (2,4))\n",
    "print(my_new_arr)\n",
    "print(my_first_arr)"
   ]
  },
  {
   "cell_type": "code",
   "execution_count": 16,
   "metadata": {},
   "outputs": [
    {
     "name": "stdout",
     "output_type": "stream",
     "text": [
      "[ 8 23  3]\n",
      "[ 1  8 23  3 18 91  7 15]\n",
      "[    8 99999     3]\n",
      "[    1     8 99999     3    18    91     7    15]\n"
     ]
    }
   ],
   "source": [
    "apple = np.array([1 , 8 , 23 , 3 , 18 , 91 , 7 , 15])\n",
    "apple_slice = apple[1:4]\n",
    "print(apple_slice)\n",
    "print(apple)\n",
    "apple_slice[1]=99999\n",
    "print(apple_slice)\n",
    "print(apple)"
   ]
  },
  {
   "cell_type": "code",
   "execution_count": 18,
   "metadata": {},
   "outputs": [
    {
     "name": "stdout",
     "output_type": "stream",
     "text": [
      "1.8333333333333333\n",
      "3.435921354681384\n",
      "11.805555555555557\n",
      "-5\n",
      "6\n",
      "11\n",
      "-720\n"
     ]
    }
   ],
   "source": [
    "X_stat = np.array([[1,2,3],[4 ,-5,6]])\n",
    "print(X_stat.mean())\n",
    "print(X_stat.std())\n",
    "print(X_stat.var())\n",
    "print(X_stat.min())\n",
    "print(X_stat.max())\n",
    "print(X_stat.sum())\n",
    "print(X_stat.prod())\n"
   ]
  },
  {
   "cell_type": "code",
   "execution_count": 20,
   "metadata": {},
   "outputs": [
    {
     "name": "stdout",
     "output_type": "stream",
     "text": [
      "(130, 120, 3)\n"
     ]
    }
   ],
   "source": [
    "from sklearn.datasets import load_sample_image\n",
    "china = load_sample_image('china.jpg')\n",
    "portions = china[120:250,110:230]\n",
    "print(portions.shape)"
   ]
  }
 ],
 "metadata": {
  "kernelspec": {
   "display_name": "Python 3",
   "language": "python",
   "name": "python3"
  },
  "language_info": {
   "codemirror_mode": {
    "name": "ipython",
    "version": 3
   },
   "file_extension": ".py",
   "mimetype": "text/x-python",
   "name": "python",
   "nbconvert_exporter": "python",
   "pygments_lexer": "ipython3",
   "version": "3.10.10"
  },
  "orig_nbformat": 4
 },
 "nbformat": 4,
 "nbformat_minor": 2
}
